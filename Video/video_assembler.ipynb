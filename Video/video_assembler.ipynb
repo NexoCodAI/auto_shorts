{
  "nbformat": 4,
  "nbformat_minor": 0,
  "metadata": {
    "colab": {
      "provenance": [],
      "gpuType": "T4"
    },
    "kernelspec": {
      "name": "python3",
      "display_name": "Python 3"
    },
    "language_info": {
      "name": "python"
    },
    "accelerator": "GPU"
  },
  "cells": [
    {
      "cell_type": "code",
      "source": [
        "!pip install numpy opencv-python pillow tqdm requests moviepy"
      ],
      "metadata": {
        "colab": {
          "base_uri": "https://localhost:8080/"
        },
        "id": "AJNaUTDohHsK",
        "outputId": "ad1645ba-e9e6-4876-9620-1bf44c9dfbda"
      },
      "execution_count": 14,
      "outputs": [
        {
          "output_type": "stream",
          "name": "stdout",
          "text": [
            "Requirement already satisfied: numpy in /usr/local/lib/python3.11/dist-packages (1.26.4)\n",
            "Requirement already satisfied: opencv-python in /usr/local/lib/python3.11/dist-packages (4.11.0.86)\n",
            "Requirement already satisfied: pillow in /usr/local/lib/python3.11/dist-packages (11.1.0)\n",
            "Requirement already satisfied: tqdm in /usr/local/lib/python3.11/dist-packages (4.67.1)\n",
            "Requirement already satisfied: requests in /usr/local/lib/python3.11/dist-packages (2.32.3)\n",
            "Requirement already satisfied: charset-normalizer<4,>=2 in /usr/local/lib/python3.11/dist-packages (from requests) (3.4.1)\n",
            "Requirement already satisfied: idna<4,>=2.5 in /usr/local/lib/python3.11/dist-packages (from requests) (3.10)\n",
            "Requirement already satisfied: urllib3<3,>=1.21.1 in /usr/local/lib/python3.11/dist-packages (from requests) (2.3.0)\n",
            "Requirement already satisfied: certifi>=2017.4.17 in /usr/local/lib/python3.11/dist-packages (from requests) (2025.1.31)\n"
          ]
        }
      ]
    },
    {
      "cell_type": "code",
      "source": [
        "import os\n",
        "import random\n",
        "import logging\n",
        "from moviepy.editor import (\n",
        "    VideoFileClip, AudioFileClip, CompositeAudioClip, concatenate_videoclips\n",
        ")\n",
        "from moviepy.audio.fx.all import audio_loop\n",
        "from moviepy.video.fx.speedx import speedx\n",
        "\n",
        "# Configure logging\n",
        "logging.basicConfig(level=logging.INFO, format='%(levelname)s: %(message)s')\n",
        "\n",
        "def get_random_file(directory: str, extension: str) -> str:\n",
        "    \"\"\"\n",
        "    Return a random file with the given extension from the specified directory.\n",
        "    \"\"\"\n",
        "    files = [f for f in os.listdir(directory) if f.lower().endswith(extension)]\n",
        "    if not files:\n",
        "        raise FileNotFoundError(f\"No file with extension {extension} found in {directory}\")\n",
        "    return os.path.join(directory, random.choice(files))\n",
        "\n",
        "def adjust_audio_speed(audio_clip, target_duration):\n",
        "    \"\"\"\n",
        "    Adjust the audio clip's speed so its duration becomes exactly target_duration.\n",
        "    This function calculates the necessary speed factor (without limiting it)\n",
        "    and then trims or loops the adjusted audio if needed.\n",
        "    \"\"\"\n",
        "    current_duration = audio_clip.duration\n",
        "    if current_duration == target_duration:\n",
        "        return audio_clip\n",
        "\n",
        "    # Calculate speed factor; speeding up if narration is longer than needed,\n",
        "    # or slowing down if it's too short.\n",
        "    speed_factor = current_duration / target_duration\n",
        "    adjusted = audio_clip.fx(speedx, speed_factor)\n",
        "\n",
        "    # Ensure the adjusted audio exactly matches target_duration\n",
        "    if adjusted.duration < target_duration:\n",
        "        adjusted = audio_loop(adjusted, duration=target_duration)\n",
        "    elif adjusted.duration > target_duration:\n",
        "        adjusted = adjusted.subclip(0, target_duration)\n",
        "    return adjusted\n",
        "\n",
        "def assemble_video(i: int):\n",
        "    \"\"\"\n",
        "    Assemble a final video by unifying:\n",
        "      - a random opening clip (from Storage/Openings/)\n",
        "      - a middle video (from Storage/temp_videos/ as book_{i}.mp4)\n",
        "      - a random ending clip (from Storage/Endings/)\n",
        "    It overlays:\n",
        "      - Background music (from Storage/music_library/song_{i}.mp3) throughout the whole video at reduced volume.\n",
        "      - Narration (from Storage/temp_audios/voice_{i}.wav) that starts after the opening,\n",
        "        adjusted to exactly cover the combined duration of the middle and ending clips.\n",
        "    The final output is saved in Video/final_videos/ as video_{i}.mp4.\n",
        "    \"\"\"\n",
        "    # Define directories\n",
        "    dirs = {\n",
        "        \"openings\": \"Storage/Openings/\",\n",
        "        \"middle_videos\": \"Storage/temp_videos/\",\n",
        "        \"narrations\": \"Storage/temp_audios/\",\n",
        "        \"music\": \"Storage/music_library/\",\n",
        "        \"endings\": \"Storage/Endings/\",\n",
        "        \"final_videos\": \"Video/final_videos/\"\n",
        "    }\n",
        "\n",
        "    # Ensure the output directory exists\n",
        "    os.makedirs(dirs[\"final_videos\"], exist_ok=True)\n",
        "\n",
        "    try:\n",
        "        # Construct file paths\n",
        "        middle_video_path = os.path.join(dirs[\"middle_videos\"], f\"book_{i}.mp4\")\n",
        "        narration_path = os.path.join(dirs[\"narrations\"], f\"voice_{i}.wav\")\n",
        "        song_path = os.path.join(dirs[\"music\"], f\"song_{i}.mp3\")\n",
        "        opening_path = get_random_file(dirs[\"openings\"], \".mp4\")\n",
        "        ending_path = get_random_file(dirs[\"endings\"], \".mp4\")\n",
        "\n",
        "        # Load video clips (assumed to be already matching in resolution & fps)\n",
        "        opening_clip = VideoFileClip(opening_path)\n",
        "        middle_clip = VideoFileClip(middle_video_path)\n",
        "        ending_clip = VideoFileClip(ending_path)\n",
        "\n",
        "        # Calculate durations\n",
        "        t_opening = opening_clip.duration\n",
        "        t_middle = middle_clip.duration\n",
        "        t_ending = ending_clip.duration\n",
        "        total_duration = t_opening + t_middle + t_ending\n",
        "        narration_target_duration = t_middle + t_ending  # Narration spans middle + ending\n",
        "\n",
        "        # Load audio clips\n",
        "        narration_audio = AudioFileClip(narration_path)\n",
        "        song_audio = AudioFileClip(song_path)\n",
        "\n",
        "        # Adjust narration speed to exactly match the duration for middle and ending parts.\n",
        "        adjusted_narration = adjust_audio_speed(narration_audio, narration_target_duration)\n",
        "\n",
        "        # Process background music: loop it for the entire video duration and reduce volume.\n",
        "        music_audio = audio_loop(song_audio, duration=total_duration).volumex(0.3)\n",
        "\n",
        "        # Prepare audio for each segment:\n",
        "        # 1. Opening uses only the background music.\n",
        "        opening_audio = music_audio.subclip(0, t_opening)\n",
        "\n",
        "        # 2. Middle segment overlays the first part of the narration over the music.\n",
        "        middle_music = music_audio.subclip(t_opening, t_opening + t_middle)\n",
        "        middle_narration = adjusted_narration.subclip(0, t_middle)\n",
        "        middle_audio = CompositeAudioClip([middle_music, middle_narration])\n",
        "\n",
        "        # 3. Ending segment overlays the remaining narration over the music.\n",
        "        ending_music = music_audio.subclip(t_opening + t_middle, total_duration)\n",
        "        ending_narration = adjusted_narration.subclip(t_middle, narration_target_duration)\n",
        "        ending_audio = CompositeAudioClip([ending_music, ending_narration])\n",
        "\n",
        "        # Set the new audio tracks (discarding any native audio from the clips)\n",
        "        opening_clip = opening_clip.set_audio(opening_audio)\n",
        "        middle_clip = middle_clip.set_audio(middle_audio)\n",
        "        ending_clip = ending_clip.set_audio(ending_audio)\n",
        "\n",
        "        # Concatenate the video clips (using \"chain\" to simply join them without extra processing)\n",
        "        final_clip = concatenate_videoclips([opening_clip, middle_clip, ending_clip], method=\"chain\")\n",
        "        final_video_path = os.path.join(dirs[\"final_videos\"], f\"video_{i}.mp4\")\n",
        "\n",
        "        # Write the final video file to disk\n",
        "        final_clip.write_videofile(\n",
        "            final_video_path,\n",
        "            codec=\"libx264\",\n",
        "            audio_codec=\"aac\",\n",
        "            temp_audiofile=\"temp-audio.m4a\",\n",
        "            remove_temp=True\n",
        "        )\n",
        "        logging.info(f\"Video saved to {final_video_path}\")\n",
        "\n",
        "        # Close resources\n",
        "        opening_clip.close()\n",
        "        middle_clip.close()\n",
        "        ending_clip.close()\n",
        "        narration_audio.close()\n",
        "        song_audio.close()\n",
        "        final_clip.close()\n",
        "\n",
        "    except Exception as e:\n",
        "        logging.error(f\"An error occurred during video assembly: {e}\")\n",
        "\n",
        "if __name__ == '__main__':\n",
        "    assemble_video(1)\n"
      ],
      "metadata": {
        "colab": {
          "base_uri": "https://localhost:8080/"
        },
        "id": "oqSS56feyc75",
        "outputId": "ef2f31d8-9a67-4904-8825-8408e96c4245"
      },
      "execution_count": 38,
      "outputs": [
        {
          "output_type": "stream",
          "name": "stdout",
          "text": [
            "Moviepy - Building video Video/final_videos/video_1.mp4.\n",
            "MoviePy - Writing audio in temp-audio.m4a\n"
          ]
        },
        {
          "output_type": "stream",
          "name": "stderr",
          "text": []
        },
        {
          "output_type": "stream",
          "name": "stdout",
          "text": [
            "MoviePy - Done.\n",
            "Moviepy - Writing video Video/final_videos/video_1.mp4\n",
            "\n"
          ]
        },
        {
          "output_type": "stream",
          "name": "stderr",
          "text": []
        },
        {
          "output_type": "stream",
          "name": "stdout",
          "text": [
            "Moviepy - Done !\n",
            "Moviepy - video ready Video/final_videos/video_1.mp4\n"
          ]
        }
      ]
    }
  ]
}
